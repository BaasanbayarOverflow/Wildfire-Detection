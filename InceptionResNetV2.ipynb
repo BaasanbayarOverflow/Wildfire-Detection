{
 "cells": [
  {
   "cell_type": "code",
   "execution_count": 1,
   "id": "0c7ebc23",
   "metadata": {},
   "outputs": [],
   "source": [
    "import os\n",
    "import cv2\n",
    "import numpy as np\n",
    "import pandas as pd\n",
    "import matplotlib.pyplot as plt\n",
    "import seaborn as sns\n",
    "import tensorflow as tf\n",
    "\n",
    "from glob import glob\n",
    "from tqdm import tqdm"
   ]
  },
  {
   "cell_type": "code",
   "execution_count": 2,
   "id": "2f78de1a",
   "metadata": {},
   "outputs": [
    {
     "name": "stdout",
     "output_type": "stream",
     "text": [
      "Available GPU devices: 1\n"
     ]
    }
   ],
   "source": [
    "physical_devices = tf.config.experimental.list_physical_devices('GPU')\n",
    "print(f'Available GPU devices: {len(physical_devices)}')\n",
    "tf.config.experimental.set_memory_growth(physical_devices[0], True)"
   ]
  },
  {
   "cell_type": "code",
   "execution_count": 3,
   "id": "3ef41a68",
   "metadata": {},
   "outputs": [],
   "source": [
    "path_to_dataset = r'.\\Forest fire'\n",
    "path_to_training_dataset = os.path.join(path_to_dataset, 'Training')\n",
    "path_to_validation_dataset = os.path.join(path_to_dataset, 'Validation')\n",
    "path_to_testing_dataset = os.path.join(path_to_dataset, 'Testing')"
   ]
  },
  {
   "cell_type": "code",
   "execution_count": 4,
   "id": "3f0fbebb",
   "metadata": {},
   "outputs": [],
   "source": [
    "def preprocessData(path):\n",
    "    path_to_positive = os.path.join(path, 'fire')\n",
    "    path_to_negative = os.path.join(path, 'nofire')\n",
    "\n",
    "    images_positive = glob(path_to_positive + '/*.*')\n",
    "    images_negative = glob(path_to_negative + '/*.*')\n",
    "\n",
    "    images_list, labels_list = [], []\n",
    "    for image in tqdm(images_positive):\n",
    "        img = cv2.imread(image)\n",
    "        img = cv2.cvtColor(img, code=cv2.COLOR_BGR2RGB)\n",
    "        img = cv2.resize(img, (200, 200))\n",
    "        images_list.append(img)\n",
    "        labels_list.append(1)\n",
    "\n",
    "    for image in tqdm(images_negative):\n",
    "        img = cv2.imread(image)\n",
    "        img = cv2.resize(img, (200, 200))\n",
    "        images_list.append(img)\n",
    "        labels_list.append(0)\n",
    "    \n",
    "    return images_list, labels_list"
   ]
  },
  {
   "cell_type": "code",
   "execution_count": 5,
   "id": "8e162d6f",
   "metadata": {},
   "outputs": [
    {
     "name": "stderr",
     "output_type": "stream",
     "text": [
      "100%|██████████| 858/858 [00:06<00:00, 129.52it/s]\n",
      "100%|██████████| 848/848 [00:17<00:00, 47.65it/s] \n",
      "100%|██████████| 286/286 [00:08<00:00, 34.29it/s]\n",
      "100%|██████████| 211/211 [00:02<00:00, 75.65it/s] \n",
      "100%|██████████| 22/22 [00:00<00:00, 76.44it/s]\n",
      "100%|██████████| 46/46 [00:00<00:00, 82.51it/s]\n"
     ]
    }
   ],
   "source": [
    "training_images_list, training_labels_list = preprocessData(path_to_training_dataset)\n",
    "validation_images_list, validation_labels_list = preprocessData(path_to_validation_dataset)\n",
    "testing_images_list, testing_labels_list = preprocessData(path_to_testing_dataset)"
   ]
  },
  {
   "cell_type": "code",
   "execution_count": 6,
   "id": "0841106f",
   "metadata": {},
   "outputs": [],
   "source": [
    "def createDataFrame(images, labels):\n",
    "    dataframe = pd.DataFrame()\n",
    "    dataframe['image'] = images\n",
    "    dataframe['label'] = labels\n",
    "    dataframe = dataframe.sample(frac=1).reset_index(drop=True)\n",
    "    return dataframe\n",
    "\n",
    "dataframe_training = createDataFrame(training_images_list, training_labels_list)\n",
    "dataframe_testing = createDataFrame(testing_images_list, testing_labels_list)\n",
    "dataframe_validation = createDataFrame(validation_images_list, validation_labels_list)"
   ]
  },
  {
   "cell_type": "code",
   "execution_count": 7,
   "id": "6bc7dae9",
   "metadata": {},
   "outputs": [
    {
     "name": "stderr",
     "output_type": "stream",
     "text": [
      "100%|██████████| 1706/1706 [00:00<00:00, 9772.99it/s]\n",
      "100%|██████████| 68/68 [00:00<00:00, 7582.62it/s]\n",
      "100%|██████████| 497/497 [00:00<00:00, 7119.55it/s]\n"
     ]
    }
   ],
   "source": [
    "X_train, y_train = dataframe_training['image'], dataframe_training['label']\n",
    "X_test, y_test = dataframe_testing['image'], dataframe_testing['label']\n",
    "X_val, y_val = dataframe_validation['image'], dataframe_validation['label']\n",
    "\n",
    "def reshapeTensors(array_to_reshape, length):\n",
    "    tensor = []\n",
    "    for i in tqdm(range(length)):\n",
    "        element = np.array(array_to_reshape[i].reshape(200, 200, 3))\n",
    "        tensor.append(element)\n",
    "    tensor = np.array(tensor)\n",
    "    return tensor\n",
    "\n",
    "X_train = reshapeTensors(X_train, X_train.shape[0]) / 255\n",
    "X_test = reshapeTensors(X_test, X_test.shape[0]) / 255\n",
    "X_val = reshapeTensors(X_val, X_val.shape[0]) / 255"
   ]
  },
  {
   "cell_type": "code",
   "execution_count": 8,
   "id": "f0989097",
   "metadata": {},
   "outputs": [],
   "source": [
    "from tensorflow.keras.applications.inception_resnet_v2 import InceptionResNetV2\n",
    "from tensorflow.keras.models import Sequential\n",
    "from tensorflow.keras.models import Model\n",
    "from tensorflow.keras.layers import GlobalAveragePooling2D\n",
    "from tensorflow.keras.layers import GlobalMaxPooling2D\n",
    "from tensorflow.keras.layers import Dropout\n",
    "from tensorflow.keras.layers import Dense\n",
    "from tensorflow.keras.layers import Flatten\n",
    "from tensorflow.keras.optimizers import RMSprop\n",
    "from tensorflow.keras.losses import BinaryCrossentropy\n",
    "from tensorflow.keras.callbacks import EarlyStopping\n",
    "from tensorflow.keras.callbacks import ReduceLROnPlateau\n",
    "from sklearn.metrics import accuracy_score\n",
    "from sklearn.metrics import classification_report\n",
    "from sklearn.metrics import confusion_matrix"
   ]
  },
  {
   "cell_type": "code",
   "execution_count": 25,
   "id": "04b77dcc",
   "metadata": {},
   "outputs": [],
   "source": [
    "model_inceptionResNet = InceptionResNetV2(include_top=False, weights='imagenet', input_shape=(200, 200, 3))\n",
    "output_layer = model_inceptionResNet.layers[-1].output\n",
    "output_layer = GlobalMaxPooling2D()(output_layer)\n",
    "output_layer = Flatten()(output_layer)\n",
    "output_layer = Dropout(0.5)(output_layer)\n",
    "model_inceptionResNet = Model(inputs=model_inceptionResNet.inputs, outputs=output_layer)\n",
    "model_inceptionResNet.summary()"
   ]
  },
  {
   "cell_type": "code",
   "execution_count": 10,
   "id": "8fa45774",
   "metadata": {},
   "outputs": [],
   "source": [
    "for layer in model_inceptionResNet.layers:\n",
    "    layer.trainable = False"
   ]
  },
  {
   "cell_type": "code",
   "execution_count": 11,
   "id": "2e2f1cbb",
   "metadata": {},
   "outputs": [
    {
     "name": "stdout",
     "output_type": "stream",
     "text": [
      "Model: \"sequential\"\n",
      "_________________________________________________________________\n",
      "Layer (type)                 Output Shape              Param #   \n",
      "=================================================================\n",
      "functional_1 (Functional)    (None, 1536)              54336736  \n",
      "_________________________________________________________________\n",
      "dense (Dense)                (None, 1024)              1573888   \n",
      "_________________________________________________________________\n",
      "dropout_1 (Dropout)          (None, 1024)              0         \n",
      "_________________________________________________________________\n",
      "dense_1 (Dense)              (None, 512)               524800    \n",
      "_________________________________________________________________\n",
      "dropout_2 (Dropout)          (None, 512)               0         \n",
      "_________________________________________________________________\n",
      "dense_2 (Dense)              (None, 256)               131328    \n",
      "_________________________________________________________________\n",
      "dropout_3 (Dropout)          (None, 256)               0         \n",
      "_________________________________________________________________\n",
      "dense_3 (Dense)              (None, 128)               32896     \n",
      "_________________________________________________________________\n",
      "dense_4 (Dense)              (None, 1)                 129       \n",
      "=================================================================\n",
      "Total params: 56,599,777\n",
      "Trainable params: 2,263,041\n",
      "Non-trainable params: 54,336,736\n",
      "_________________________________________________________________\n"
     ]
    }
   ],
   "source": [
    "model = Sequential()\n",
    "model.add(model_inceptionResNet)\n",
    "model.add(Dense(1024, activation='relu'))\n",
    "model.add(Dropout(0.4))\n",
    "model.add(Dense(512, activation='relu'))\n",
    "model.add(Dropout(0.4))\n",
    "model.add(Dense(256, activation='relu'))\n",
    "model.add(Dropout(0.3))\n",
    "model.add(Dense(128, activation='relu'))\n",
    "model.add(Dense(1, activation='sigmoid'))\n",
    "model.summary()"
   ]
  },
  {
   "cell_type": "code",
   "execution_count": 12,
   "id": "95be8ddf",
   "metadata": {},
   "outputs": [],
   "source": [
    "model.compile(optimizer=RMSprop(learning_rate=0.0001), loss=BinaryCrossentropy(), metrics=['accuracy'])"
   ]
  },
  {
   "cell_type": "code",
   "execution_count": 13,
   "id": "98d22758",
   "metadata": {},
   "outputs": [],
   "source": [
    "early_stopping = EarlyStopping(monitor='loss', patience=4, restore_best_weights=True)\n",
    "reduce_lr = ReduceLROnPlateau(monitor='val_loss', factor=0.2, patience=3, verbose=1, min_lr=1e-7)"
   ]
  },
  {
   "cell_type": "code",
   "execution_count": 14,
   "id": "18594f17",
   "metadata": {},
   "outputs": [
    {
     "name": "stdout",
     "output_type": "stream",
     "text": [
      "Epoch 1/25\n",
      "54/54 [==============================] - 91s 2s/step - loss: 0.6357 - accuracy: 0.7069 - val_loss: 0.3625 - val_accuracy: 0.8491\n",
      "Epoch 2/25\n",
      "54/54 [==============================] - 66s 1s/step - loss: 0.3638 - accuracy: 0.8464 - val_loss: 0.3114 - val_accuracy: 0.8712\n",
      "Epoch 3/25\n",
      "54/54 [==============================] - 66s 1s/step - loss: 0.2806 - accuracy: 0.8921 - val_loss: 0.2646 - val_accuracy: 0.8974\n",
      "Epoch 4/25\n",
      "54/54 [==============================] - 65s 1s/step - loss: 0.2081 - accuracy: 0.9232 - val_loss: 0.2952 - val_accuracy: 0.9034\n",
      "Epoch 5/25\n",
      "54/54 [==============================] - 65s 1s/step - loss: 0.1971 - accuracy: 0.9332 - val_loss: 0.2911 - val_accuracy: 0.9014\n",
      "Epoch 6/25\n",
      "54/54 [==============================] - ETA: 0s - loss: 0.1650 - accuracy: 0.9426\n",
      "Epoch 00006: ReduceLROnPlateau reducing learning rate to 1.9999999494757503e-05.\n",
      "54/54 [==============================] - 65s 1s/step - loss: 0.1650 - accuracy: 0.9426 - val_loss: 0.2754 - val_accuracy: 0.9115\n",
      "Epoch 7/25\n",
      "54/54 [==============================] - 66s 1s/step - loss: 0.1571 - accuracy: 0.9437 - val_loss: 0.2727 - val_accuracy: 0.9155\n",
      "Epoch 8/25\n",
      "54/54 [==============================] - 66s 1s/step - loss: 0.1553 - accuracy: 0.9496 - val_loss: 0.2767 - val_accuracy: 0.9095\n",
      "Epoch 9/25\n",
      "54/54 [==============================] - ETA: 0s - loss: 0.1505 - accuracy: 0.9496\n",
      "Epoch 00009: ReduceLROnPlateau reducing learning rate to 3.999999898951501e-06.\n",
      "54/54 [==============================] - 66s 1s/step - loss: 0.1505 - accuracy: 0.9496 - val_loss: 0.2862 - val_accuracy: 0.9135\n",
      "Epoch 10/25\n",
      "54/54 [==============================] - 66s 1s/step - loss: 0.1350 - accuracy: 0.9601 - val_loss: 0.2804 - val_accuracy: 0.9135\n",
      "Epoch 11/25\n",
      "54/54 [==============================] - 65s 1s/step - loss: 0.1487 - accuracy: 0.9449 - val_loss: 0.2766 - val_accuracy: 0.9095\n",
      "Epoch 12/25\n",
      "54/54 [==============================] - ETA: 0s - loss: 0.1225 - accuracy: 0.9596\n",
      "Epoch 00012: ReduceLROnPlateau reducing learning rate to 7.999999979801942e-07.\n",
      "54/54 [==============================] - 65s 1s/step - loss: 0.1225 - accuracy: 0.9596 - val_loss: 0.2765 - val_accuracy: 0.9095\n",
      "Epoch 13/25\n",
      "54/54 [==============================] - 65s 1s/step - loss: 0.1206 - accuracy: 0.9560 - val_loss: 0.2764 - val_accuracy: 0.9095\n",
      "Epoch 14/25\n",
      "54/54 [==============================] - 65s 1s/step - loss: 0.1326 - accuracy: 0.9566 - val_loss: 0.2764 - val_accuracy: 0.9095\n",
      "Epoch 15/25\n",
      "54/54 [==============================] - ETA: 0s - loss: 0.1352 - accuracy: 0.9560\n",
      "Epoch 00015: ReduceLROnPlateau reducing learning rate to 1.600000018697756e-07.\n",
      "54/54 [==============================] - 65s 1s/step - loss: 0.1352 - accuracy: 0.9560 - val_loss: 0.2763 - val_accuracy: 0.9074\n",
      "Epoch 16/25\n",
      "54/54 [==============================] - 65s 1s/step - loss: 0.1542 - accuracy: 0.9513 - val_loss: 0.2762 - val_accuracy: 0.9074\n",
      "Epoch 17/25\n",
      "54/54 [==============================] - 66s 1s/step - loss: 0.1512 - accuracy: 0.9455 - val_loss: 0.2762 - val_accuracy: 0.9074\n"
     ]
    }
   ],
   "source": [
    "history = model.fit(X_train, y_train, \n",
    "                    epochs=25, batch_size=32, \n",
    "                    validation_data=(X_val, y_val), \n",
    "                    callbacks=[early_stopping, reduce_lr], verbose=1)"
   ]
  },
  {
   "cell_type": "code",
   "execution_count": 15,
   "id": "492cf6f5",
   "metadata": {},
   "outputs": [
    {
     "data": {
      "text/plain": [
       "<matplotlib.legend.Legend at 0x1fa3d4ec7c0>"
      ]
     },
     "execution_count": 15,
     "metadata": {},
     "output_type": "execute_result"
    },
    {
     "data": {
      "image/png": "[encoded data removed]",
      "text/plain": [
       "<Figure size 1008x864 with 2 Axes>"
      ]
     },
     "metadata": {
      "needs_background": "light"
     },
     "output_type": "display_data"
    }
   ],
   "source": [
    "fig = plt.figure(figsize=(14, 12))\n",
    "ax1 = fig.add_subplot(211)\n",
    "ax1.set_title('InceptionResNet model accuracy through 17 epochs')\n",
    "ax1.plot(history.history['accuracy'], color='red', label='Training data')\n",
    "ax1.plot(history.history['val_accuracy'], color='blue', label='Validation data')\n",
    "ax1.grid(True)\n",
    "ax1.legend(loc='lower right')\n",
    "ax2 = fig.add_subplot(212)\n",
    "ax2.set_title('InceptionResNet model loss through 17 epochs')\n",
    "ax2.plot(history.history['loss'], color='red', label='Training data')\n",
    "ax2.plot(history.history['val_loss'], color='blue', label='Validation data')\n",
    "ax2.grid(True)\n",
    "ax2.legend(loc='upper right')"
   ]
  },
  {
   "cell_type": "code",
   "execution_count": 16,
   "id": "634d6abb",
   "metadata": {},
   "outputs": [],
   "source": [
    "tf.keras.models.save_model(model, 'InceptionResNet.h5')"
   ]
  },
  {
   "cell_type": "code",
   "execution_count": 17,
   "id": "83536971",
   "metadata": {},
   "outputs": [],
   "source": [
    "prediction = model.predict(X_test)"
   ]
  },
  {
   "cell_type": "code",
   "execution_count": 19,
   "id": "ab16f558",
   "metadata": {},
   "outputs": [],
   "source": [
    "prediction_array = np.round(prediction)\n",
    "prediction_array = prediction_array.reshape(-1).astype(np.int32)\n",
    "y_test = np.array(y_test)"
   ]
  },
  {
   "cell_type": "code",
   "execution_count": 20,
   "id": "14d6cde1",
   "metadata": {},
   "outputs": [
    {
     "data": {
      "text/plain": [
       "0.9852941176470589"
      ]
     },
     "execution_count": 20,
     "metadata": {},
     "output_type": "execute_result"
    }
   ],
   "source": [
    "accuracy_score(y_test, prediction_array)"
   ]
  },
  {
   "cell_type": "code",
   "execution_count": 21,
   "id": "bb94232a",
   "metadata": {},
   "outputs": [
    {
     "name": "stdout",
     "output_type": "stream",
     "text": [
      "              precision    recall  f1-score   support\n",
      "\n",
      "           0       1.00      0.98      0.99        46\n",
      "           1       0.96      1.00      0.98        22\n",
      "\n",
      "    accuracy                           0.99        68\n",
      "   macro avg       0.98      0.99      0.98        68\n",
      "weighted avg       0.99      0.99      0.99        68\n",
      "\n"
     ]
    }
   ],
   "source": [
    "print(classification_report(y_test, prediction_array))"
   ]
  },
  {
   "cell_type": "code",
   "execution_count": 23,
   "id": "977f989b",
   "metadata": {},
   "outputs": [
    {
     "data": {
      "text/plain": [
       "<AxesSubplot:>"
      ]
     },
     "execution_count": 23,
     "metadata": {},
     "output_type": "execute_result"
    },
    {
     "data": {
      "image/png": "[encoded data removed]",
      "text/plain": [
       "<Figure size 576x576 with 2 Axes>"
      ]
     },
     "metadata": {
      "needs_background": "light"
     },
     "output_type": "display_data"
    }
   ],
   "source": [
    "fig = plt.figure(figsize=(8, 8))\n",
    "ax = fig.add_subplot(111)\n",
    "sns.heatmap(confusion_matrix(y_test, prediction_array), annot=True, fmt='d', ax=ax)"
   ]
  }
 ],
 "metadata": {
  "kernelspec": {
   "display_name": "Python 3 (ipykernel)",
   "language": "python",
   "name": "python3"
  },
  "language_info": {
   "codemirror_mode": {
    "name": "ipython",
    "version": 3
   },
   "file_extension": ".py",
   "mimetype": "text/x-python",
   "name": "python",
   "nbconvert_exporter": "python",
   "pygments_lexer": "ipython3",
   "version": "3.7.13"
  }
 },
 "nbformat": 4,
 "nbformat_minor": 5
}
