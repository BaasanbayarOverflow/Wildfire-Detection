{
 "cells": [
  {
   "cell_type": "code",
   "execution_count": 1,
   "id": "37af3918",
   "metadata": {},
   "outputs": [],
   "source": [
    "import os\n",
    "import cv2\n",
    "import numpy as np\n",
    "import pandas as pd\n",
    "import matplotlib.pyplot as plt\n",
    "import seaborn as sns\n",
    "import tensorflow as tf\n",
    "import tensorflow.keras as keras \n",
    "\n",
    "from tqdm import tqdm\n",
    "from glob import glob"
   ]
  },
  {
   "cell_type": "code",
   "execution_count": 2,
   "id": "90e69e05",
   "metadata": {},
   "outputs": [
    {
     "name": "stdout",
     "output_type": "stream",
     "text": [
      "Number of available devices: 1\n"
     ]
    }
   ],
   "source": [
    "physical_devices = tf.config.experimental.list_physical_devices('GPU')\n",
    "print(f'Number of available devices: {len(physical_devices)}')\n",
    "tf.config.experimental.set_memory_growth(physical_devices[0], True)"
   ]
  },
  {
   "cell_type": "markdown",
   "id": "7eca3a7b",
   "metadata": {},
   "source": [
    "<h3>Data preprocessing</h3>"
   ]
  },
  {
   "cell_type": "code",
   "execution_count": 3,
   "id": "bf98bd7f",
   "metadata": {},
   "outputs": [
    {
     "name": "stdout",
     "output_type": "stream",
     "text": [
      "Found 1706 images belonging to 2 classes.\n",
      "Found 497 images belonging to 2 classes.\n"
     ]
    },
    {
     "name": "stderr",
     "output_type": "stream",
     "text": [
      "100%|██████████| 22/22 [00:00<00:00, 45.26it/s]\n",
      "100%|██████████| 46/46 [00:00<00:00, 64.50it/s]\n"
     ]
    },
    {
     "name": "stdout",
     "output_type": "stream",
     "text": [
      "{'fire': 0, 'nofire': 1}\n",
      "Test dataframe shape: (68, 2)\n"
     ]
    }
   ],
   "source": [
    "path_to_train = r'.\\Forest fire\\Training'\n",
    "path_to_validation = r'.\\Forest fire\\Validation'\n",
    "path_to_test = r'.\\Forest fire\\Testing'\n",
    "\n",
    "train_ = keras.preprocessing.image.ImageDataGenerator(rescale=1/255)\n",
    "validation_ = keras.preprocessing.image.ImageDataGenerator(rescale=1/255)\n",
    "\n",
    "train_dataset = train_.flow_from_directory(path_to_train, \n",
    "                                           target_size=(200, 200),\n",
    "                                           batch_size=2,\n",
    "                                           class_mode='binary')\n",
    "validation_dataset = validation_.flow_from_directory(path_to_validation,\n",
    "                                                     target_size=(200, 200),\n",
    "                                                     batch_size=2,\n",
    "                                                     class_mode='binary')\n",
    "\n",
    "folder_fire = os.path.join(path_to_test, 'fire')\n",
    "folder_no_fire = os.path.join(path_to_test, 'nofire')\n",
    "\n",
    "files_fire = glob(folder_fire + '/*.*')\n",
    "files_no_fire = glob(folder_no_fire + '/*.*')  \n",
    "\n",
    "dataframe_test = pd.DataFrame()\n",
    "list_images, list_labels = [], []\n",
    "for file in tqdm(files_fire):\n",
    "    image = cv2.imread(file)\n",
    "    image = cv2.resize(image, (200, 200))\n",
    "    list_images.append(image)\n",
    "    list_labels.append(0)\n",
    "for file in tqdm(files_no_fire):\n",
    "    image = cv2.imread(file)\n",
    "    image = cv2.resize(image, (200, 200))\n",
    "    list_images.append(image)\n",
    "    list_labels.append(1)\n",
    "    \n",
    "dataframe_test['image'] = list_images\n",
    "dataframe_test['label'] = list_labels\n",
    "\n",
    "print(train_dataset.class_indices)\n",
    "print(f'Test dataframe shape: {dataframe_test.shape}')"
   ]
  },
  {
   "cell_type": "code",
   "execution_count": 4,
   "id": "cf30279a",
   "metadata": {},
   "outputs": [],
   "source": [
    "from tensorflow.keras.models import Model\n",
    "from tensorflow.keras.layers import Input\n",
    "from tensorflow.keras.layers import Conv2D\n",
    "from tensorflow.keras.layers import BatchNormalization\n",
    "from tensorflow.keras.layers import MaxPooling2D\n",
    "from tensorflow.keras.layers import Dropout\n",
    "from tensorflow.keras.layers import Flatten\n",
    "from tensorflow.keras.layers import Dense\n",
    "from tensorflow.keras import optimizers\n",
    "from tensorflow.keras import losses\n",
    "from sklearn.metrics import accuracy_score\n",
    "from sklearn.metrics import confusion_matrix\n",
    "from sklearn.metrics import classification_report"
   ]
  },
  {
   "cell_type": "code",
   "execution_count": 5,
   "id": "5b8d07f1",
   "metadata": {},
   "outputs": [],
   "source": [
    "def model():\n",
    "    input_shape = (200, 200, 3)\n",
    "    input_layer = Input(shape=(input_shape), name='input_layer')\n",
    "    \n",
    "    #block 1 \n",
    "    x = Conv2D(filters=64, kernel_size=(3, 3), activation='relu', padding='same', name='block1_conv1')(input_layer)\n",
    "    x = Conv2D(filters=64, kernel_size=(3, 3), activation='relu', padding='same', name='block1_conv2')(x)\n",
    "    x = BatchNormalization(name='block1_norm')(x)\n",
    "    x = MaxPooling2D(pool_size=(2, 2), name='block1_pool')(x) \n",
    "        \n",
    "    #block 2\n",
    "    x = Conv2D(filters=128, kernel_size=(3, 3), activation='relu', padding='same', name='block2_conv1')(x)\n",
    "    x = Conv2D(filters=128, kernel_size=(3, 3), activation='relu', padding='same', name='block2_conv2')(x)\n",
    "    x = BatchNormalization()(x)\n",
    "    x = MaxPooling2D(pool_size=(2, 2), name='block2_pool')(x)\n",
    "    \n",
    "    #block 3 \n",
    "    x = Conv2D(filters=256, kernel_size=(3, 3), activation='relu', padding='same', name='block3_conv1')(x)\n",
    "    x = Conv2D(filters=256, kernel_size=(3, 3), activation='relu', padding='same', name='block3_conv2')(x)\n",
    "    x = Conv2D(filters=256, kernel_size=(3, 3), activation='relu', padding='same', name='block3_conv3')(x)\n",
    "    x = Conv2D(filters=256, kernel_size=(3, 3), activation='relu', padding='same', name='block3_conv4')(x)\n",
    "    x = BatchNormalization()(x)\n",
    "    x = MaxPooling2D(pool_size=(2, 2), name='block3_pool')(x)\n",
    "    x = Dropout(0.4)(x)\n",
    "    \n",
    "    #block 4\n",
    "    x = Flatten()(x)\n",
    "    x = Dense(units=512, activation='relu', name='fc1')(x)\n",
    "    x = Dropout(0.3)(x)\n",
    "    x = Dense(units=256, activation='relu', name='fc2')(x)\n",
    "    x = Dropout(0.2)(x)\n",
    "    x = Dense(units=128, activation='relu', name='fc3')(x)\n",
    "    output_layer = Dense(units=1, activation='sigmoid')(x)\n",
    "    \n",
    "    model = Model(inputs=input_layer, outputs=output_layer)\n",
    "    model.compile(optimizer=optimizers.SGD(learning_rate=0.001, decay=1e-06, momentum=0.99, nesterov=True),\n",
    "                     loss=losses.BinaryCrossentropy(),\n",
    "                         metrics=['accuracy'])\n",
    "    return model"
   ]
  },
  {
   "cell_type": "code",
   "execution_count": 6,
   "id": "de21a636",
   "metadata": {},
   "outputs": [
    {
     "name": "stdout",
     "output_type": "stream",
     "text": [
      "Model: \"functional_1\"\n",
      "_________________________________________________________________\n",
      "Layer (type)                 Output Shape              Param #   \n",
      "=================================================================\n",
      "input_layer (InputLayer)     [(None, 200, 200, 3)]     0         \n",
      "_________________________________________________________________\n",
      "block1_conv1 (Conv2D)        (None, 200, 200, 64)      1792      \n",
      "_________________________________________________________________\n",
      "block1_conv2 (Conv2D)        (None, 200, 200, 64)      36928     \n",
      "_________________________________________________________________\n",
      "block1_norm (BatchNormalizat (None, 200, 200, 64)      256       \n",
      "_________________________________________________________________\n",
      "block1_pool (MaxPooling2D)   (None, 100, 100, 64)      0         \n",
      "_________________________________________________________________\n",
      "block2_conv1 (Conv2D)        (None, 100, 100, 128)     73856     \n",
      "_________________________________________________________________\n",
      "block2_conv2 (Conv2D)        (None, 100, 100, 128)     147584    \n",
      "_________________________________________________________________\n",
      "batch_normalization (BatchNo (None, 100, 100, 128)     512       \n",
      "_________________________________________________________________\n",
      "block2_pool (MaxPooling2D)   (None, 50, 50, 128)       0         \n",
      "_________________________________________________________________\n",
      "block3_conv1 (Conv2D)        (None, 50, 50, 256)       295168    \n",
      "_________________________________________________________________\n",
      "block3_conv2 (Conv2D)        (None, 50, 50, 256)       590080    \n",
      "_________________________________________________________________\n",
      "block3_conv3 (Conv2D)        (None, 50, 50, 256)       590080    \n",
      "_________________________________________________________________\n",
      "block3_conv4 (Conv2D)        (None, 50, 50, 256)       590080    \n",
      "_________________________________________________________________\n",
      "batch_normalization_1 (Batch (None, 50, 50, 256)       1024      \n",
      "_________________________________________________________________\n",
      "block3_pool (MaxPooling2D)   (None, 25, 25, 256)       0         \n",
      "_________________________________________________________________\n",
      "dropout (Dropout)            (None, 25, 25, 256)       0         \n",
      "_________________________________________________________________\n",
      "flatten (Flatten)            (None, 160000)            0         \n",
      "_________________________________________________________________\n",
      "fc1 (Dense)                  (None, 512)               81920512  \n",
      "_________________________________________________________________\n",
      "dropout_1 (Dropout)          (None, 512)               0         \n",
      "_________________________________________________________________\n",
      "fc2 (Dense)                  (None, 256)               131328    \n",
      "_________________________________________________________________\n",
      "dropout_2 (Dropout)          (None, 256)               0         \n",
      "_________________________________________________________________\n",
      "fc3 (Dense)                  (None, 128)               32896     \n",
      "_________________________________________________________________\n",
      "dense (Dense)                (None, 1)                 129       \n",
      "=================================================================\n",
      "Total params: 84,412,225\n",
      "Trainable params: 84,411,329\n",
      "Non-trainable params: 896\n",
      "_________________________________________________________________\n"
     ]
    }
   ],
   "source": [
    "model = model()\n",
    "model.summary()"
   ]
  },
  {
   "cell_type": "code",
   "execution_count": null,
   "id": "ef161dde",
   "metadata": {},
   "outputs": [
    {
     "name": "stdout",
     "output_type": "stream",
     "text": [
      "Epoch 1/10\n",
      "853/853 [==============================] - 338s 397ms/step - loss: nan - accuracy: 0.5158 - val_loss: nan - val_accuracy: 0.5755\n",
      "Epoch 2/10\n",
      "853/853 [==============================] - 312s 366ms/step - loss: nan - accuracy: 0.5029 - val_loss: nan - val_accuracy: 0.5755\n",
      "Epoch 3/10\n",
      "853/853 [==============================] - 317s 371ms/step - loss: nan - accuracy: 0.5029 - val_loss: nan - val_accuracy: 0.5755\n",
      "Epoch 4/10\n",
      "853/853 [==============================] - 329s 386ms/step - loss: nan - accuracy: 0.5029 - val_loss: nan - val_accuracy: 0.5755\n",
      "Epoch 5/10\n",
      "  5/853 [..............................] - ETA: 4:44 - loss: nan - accuracy: 0.3000  "
     ]
    }
   ],
   "source": [
    "history = model.fit(train_dataset, epochs=10, batch_size=2, validation_data=validation_dataset, verbose=1)"
   ]
  },
  {
   "cell_type": "code",
   "execution_count": 9,
   "id": "b3b41991",
   "metadata": {},
   "outputs": [],
   "source": [
    "tf.keras.models.save_model(model, 'CNN.h5')"
   ]
  },
  {
   "cell_type": "code",
   "execution_count": 11,
   "id": "6ccc9901",
   "metadata": {},
   "outputs": [
    {
     "data": {
      "text/plain": [
       "[<matplotlib.lines.Line2D at 0x2ab60798250>]"
      ]
     },
     "execution_count": 11,
     "metadata": {},
     "output_type": "execute_result"
    },
    {
     "data": {
      "image/png": "[encoded data removed]",
      "text/plain": [
       "<Figure size 576x360 with 1 Axes>"
      ]
     },
     "metadata": {
      "needs_background": "light"
     },
     "output_type": "display_data"
    }
   ],
   "source": [
    "fig = plt.figure(figsize=(8, 5))\n",
    "ax = fig.add_subplot(111)\n",
    "ax.plot(history.history['accuracy'])\n",
    "ax.plot(history.history['val_accuracy'])"
   ]
  },
  {
   "cell_type": "code",
   "execution_count": 12,
   "id": "646855d9",
   "metadata": {},
   "outputs": [
    {
     "data": {
      "text/plain": [
       "[<matplotlib.lines.Line2D at 0x2ab616d8e20>]"
      ]
     },
     "execution_count": 12,
     "metadata": {},
     "output_type": "execute_result"
    },
    {
     "data": {
      "image/png": "[encoded data removed]",
      "text/plain": [
       "<Figure size 576x360 with 1 Axes>"
      ]
     },
     "metadata": {
      "needs_background": "light"
     },
     "output_type": "display_data"
    }
   ],
   "source": [
    "fig = plt.figure(figsize=(8, 5))\n",
    "ax = fig.add_subplot(111)\n",
    "ax.plot(history.history['loss'])\n",
    "ax.plot(history.history['val_loss'])"
   ]
  },
  {
   "cell_type": "code",
   "execution_count": 57,
   "id": "caef76ba",
   "metadata": {},
   "outputs": [
    {
     "name": "stderr",
     "output_type": "stream",
     "text": [
      "100%|██████████| 68/68 [00:05<00:00, 12.79it/s]\n"
     ]
    }
   ],
   "source": [
    "dataframe_test.head()\n",
    "X = dataframe_test['image']\n",
    "X = np.array(X).reshape(-1, 1)\n",
    "y = dataframe_test['label']\n",
    "\n",
    "prediction = []\n",
    "for i in tqdm(range(len(X))):\n",
    "    x = X[i][0].reshape(-1, 200, 200, 3)\n",
    "    prediction.append(model.predict(x))"
   ]
  },
  {
   "cell_type": "code",
   "execution_count": 58,
   "id": "2f6cae9c",
   "metadata": {},
   "outputs": [
    {
     "data": {
      "text/plain": [
       "[array([[0.6985264]], dtype=float32),\n",
       " array([[0.53567785]], dtype=float32),\n",
       " array([[0.8517731]], dtype=float32),\n",
       " array([[0.51952326]], dtype=float32),\n",
       " array([[0.881695]], dtype=float32),\n",
       " array([[0.88697886]], dtype=float32),\n",
       " array([[0.6975991]], dtype=float32),\n",
       " array([[0.52281743]], dtype=float32),\n",
       " array([[0.5267987]], dtype=float32),\n",
       " array([[0.70302206]], dtype=float32),\n",
       " array([[0.5282667]], dtype=float32),\n",
       " array([[0.6398977]], dtype=float32),\n",
       " array([[0.72041434]], dtype=float32),\n",
       " array([[0.5230597]], dtype=float32),\n",
       " array([[0.8927855]], dtype=float32),\n",
       " array([[0.9278912]], dtype=float32),\n",
       " array([[0.8158243]], dtype=float32),\n",
       " array([[0.5712729]], dtype=float32),\n",
       " array([[0.5255407]], dtype=float32),\n",
       " array([[0.98100245]], dtype=float32),\n",
       " array([[0.7620683]], dtype=float32),\n",
       " array([[0.53121716]], dtype=float32),\n",
       " array([[0.9301571]], dtype=float32),\n",
       " array([[0.8437554]], dtype=float32),\n",
       " array([[0.9932921]], dtype=float32),\n",
       " array([[0.8394719]], dtype=float32),\n",
       " array([[0.54160464]], dtype=float32),\n",
       " array([[0.9519055]], dtype=float32),\n",
       " array([[0.71151096]], dtype=float32),\n",
       " array([[0.95356876]], dtype=float32),\n",
       " array([[0.98346037]], dtype=float32),\n",
       " array([[0.8335344]], dtype=float32),\n",
       " array([[0.9976158]], dtype=float32),\n",
       " array([[0.9909446]], dtype=float32),\n",
       " array([[0.98072183]], dtype=float32),\n",
       " array([[0.98775184]], dtype=float32),\n",
       " array([[0.9518874]], dtype=float32),\n",
       " array([[0.9544432]], dtype=float32),\n",
       " array([[0.9841352]], dtype=float32),\n",
       " array([[0.978798]], dtype=float32),\n",
       " array([[0.9756085]], dtype=float32),\n",
       " array([[0.8955765]], dtype=float32),\n",
       " array([[0.9516653]], dtype=float32),\n",
       " array([[0.97820187]], dtype=float32),\n",
       " array([[0.9013176]], dtype=float32),\n",
       " array([[0.850583]], dtype=float32),\n",
       " array([[0.99583215]], dtype=float32),\n",
       " array([[0.98784435]], dtype=float32),\n",
       " array([[0.847043]], dtype=float32),\n",
       " array([[0.96190655]], dtype=float32),\n",
       " array([[0.98357844]], dtype=float32),\n",
       " array([[0.77599746]], dtype=float32),\n",
       " array([[0.7978916]], dtype=float32),\n",
       " array([[0.9711865]], dtype=float32),\n",
       " array([[0.56048614]], dtype=float32),\n",
       " array([[0.99164283]], dtype=float32),\n",
       " array([[0.97873026]], dtype=float32),\n",
       " array([[0.9791383]], dtype=float32),\n",
       " array([[0.95535475]], dtype=float32),\n",
       " array([[0.97996485]], dtype=float32),\n",
       " array([[0.9839228]], dtype=float32),\n",
       " array([[0.98140275]], dtype=float32),\n",
       " array([[0.9867388]], dtype=float32),\n",
       " array([[0.9684276]], dtype=float32),\n",
       " array([[0.94467306]], dtype=float32),\n",
       " array([[0.9799657]], dtype=float32),\n",
       " array([[0.9831503]], dtype=float32),\n",
       " array([[0.985386]], dtype=float32)]"
      ]
     },
     "execution_count": 58,
     "metadata": {},
     "output_type": "execute_result"
    }
   ],
   "source": [
    "prediction"
   ]
  },
  {
   "cell_type": "code",
   "execution_count": 46,
   "id": "2b8fbed5",
   "metadata": {},
   "outputs": [],
   "source": [
    "x = X[2][0].reshape(-1, 200, 200, 3)"
   ]
  },
  {
   "cell_type": "code",
   "execution_count": null,
   "id": "90dce35b",
   "metadata": {},
   "outputs": [],
   "source": []
  },
  {
   "cell_type": "code",
   "execution_count": null,
   "id": "d1c84c38",
   "metadata": {},
   "outputs": [],
   "source": []
  },
  {
   "cell_type": "code",
   "execution_count": null,
   "id": "dcbe4c7f",
   "metadata": {},
   "outputs": [],
   "source": []
  },
  {
   "cell_type": "code",
   "execution_count": null,
   "id": "aced9e8d",
   "metadata": {},
   "outputs": [],
   "source": []
  }
 ],
 "metadata": {
  "kernelspec": {
   "display_name": "Python 3 (ipykernel)",
   "language": "python",
   "name": "python3"
  },
  "language_info": {
   "codemirror_mode": {
    "name": "ipython",
    "version": 3
   },
   "file_extension": ".py",
   "mimetype": "text/x-python",
   "name": "python",
   "nbconvert_exporter": "python",
   "pygments_lexer": "ipython3",
   "version": "3.7.13"
  }
 },
 "nbformat": 4,
 "nbformat_minor": 5
}
